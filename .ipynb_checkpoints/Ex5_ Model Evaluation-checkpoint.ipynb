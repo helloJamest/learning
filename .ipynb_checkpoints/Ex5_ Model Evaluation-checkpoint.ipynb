{
 "cells": [
  {
   "cell_type": "markdown",
   "metadata": {},
   "source": [
    "__5.1交叉验证__"
   ]
  },
  {
   "cell_type": "code",
   "execution_count": 5,
   "metadata": {},
   "outputs": [
    {
     "name": "stdout",
     "output_type": "stream",
     "text": [
      "[ 1.          0.96666667  0.93333333  0.9         1.        ]\n",
      "Average score: 0.96\n"
     ]
    }
   ],
   "source": [
    "from sklearn.model_selection import cross_val_score\n",
    "from sklearn.datasets import load_iris\n",
    "from sklearn.linear_model import LogisticRegression\n",
    "\n",
    "iris = load_iris()\n",
    "logreg = LogisticRegression()\n",
    "scores = cross_val_score(logreg,iris.data,iris.target,cv = 5)#默认执行3折交叉验证\n",
    "print(scores)\n",
    "print('Average score:',scores.mean())"
   ]
  },
  {
   "cell_type": "code",
   "execution_count": 9,
   "metadata": {},
   "outputs": [
    {
     "name": "stdout",
     "output_type": "stream",
     "text": [
      "[ 0.96666667  0.9         0.96666667  0.96666667  0.93333333]\n"
     ]
    }
   ],
   "source": [
    "#交叉验证分离器\n",
    "from sklearn.model_selection import KFold\n",
    "Kfold = KFold(n_splits=5,shuffle=True,random_state=0)#对于分类问题，将数据打乱会得到更好的结果\n",
    "print(cross_val_score(logreg,iris.data,iris.target,cv=Kfold))"
   ]
  },
  {
   "cell_type": "code",
   "execution_count": 8,
   "metadata": {},
   "outputs": [
    {
     "name": "stdout",
     "output_type": "stream",
     "text": [
      "[ 0.  0.  0.]\n"
     ]
    }
   ],
   "source": [
    "Kfold = KFold(n_splits=3)\n",
    "print(cross_val_score(logreg,iris.data,iris.target,cv=Kfold))"
   ]
  },
  {
   "cell_type": "code",
   "execution_count": 10,
   "metadata": {},
   "outputs": [
    {
     "name": "stdout",
     "output_type": "stream",
     "text": [
      "150\n",
      "0.953333333333\n"
     ]
    }
   ],
   "source": [
    "#留一法交叉验证\n",
    "from sklearn.model_selection import LeaveOneOut\n",
    "loo = LeaveOneOut()\n",
    "scores  = cross_val_score(logreg,iris.data,iris.target,cv=loo)\n",
    "print(len(scores))\n",
    "print(scores.mean())"
   ]
  },
  {
   "cell_type": "code",
   "execution_count": 12,
   "metadata": {},
   "outputs": [
    {
     "name": "stdout",
     "output_type": "stream",
     "text": [
      "[ 0.86666667  0.97333333  0.93333333  0.98666667  0.92        0.93333333\n",
      "  0.96        0.97333333  0.97333333  0.96      ]\n"
     ]
    }
   ],
   "source": [
    "#打乱划分交叉验证\n",
    "from sklearn.model_selection import ShuffleSplit\n",
    "shufflesplit = ShuffleSplit(test_size=.5,train_size=.5,n_splits=10,random_state=43)\n",
    "scores = cross_val_score(logreg,iris.data,iris.target,cv=shufflesplit)\n",
    "print(scores)"
   ]
  },
  {
   "cell_type": "code",
   "execution_count": 18,
   "metadata": {},
   "outputs": [
    {
     "name": "stdout",
     "output_type": "stream",
     "text": [
      "[ 1.   0.8  1. ]\n"
     ]
    }
   ],
   "source": [
    "from mglearn.datasets import make_blobs\n",
    "#分组交叉验证\n",
    "from sklearn.model_selection import GroupKFold\n",
    "X,y = make_blobs(n_samples=12,random_state=0)\n",
    "groups = [0,0,0,1,1,1,1,2,2,3,3,3]#假设前三个样本属于同一组，接下来的4个属于同一组，以此类推\n",
    "scores = cross_val_score(logreg,X,y,groups,cv=GroupKFold(n_splits=3))\n",
    "print(scores)"
   ]
  },
  {
   "cell_type": "markdown",
   "metadata": {},
   "source": [
    "__网格搜索__"
   ]
  },
  {
   "cell_type": "code",
   "execution_count": 21,
   "metadata": {},
   "outputs": [
    {
     "name": "stdout",
     "output_type": "stream",
     "text": [
      "0.973684210526\n",
      "{'C': 100, 'gamma': 1}\n"
     ]
    }
   ],
   "source": [
    "#简单的网格搜索\n",
    "from sklearn.model_selection import train_test_split\n",
    "from sklearn.svm import SVC\n",
    "X_train,X_test,y_train,y_test = train_test_split(iris.data,iris.target,random_state=0)\n",
    "best_score=0\n",
    "for gamma in[0.001,0.01,0.1,1,10,100]:\n",
    "    for C in [0.001,0.01,0.1,1,10,100]:\n",
    "        svm = SVC(gamma=gamma,C=C)\n",
    "        svm.fit(X_train,y_train)\n",
    "        score = svm.score(X_test,y_test)\n",
    "        if score>=best_score:\n",
    "            best_score=score\n",
    "            best_parameters={'C':C,'gamma':gamma}\n",
    "print(best_score)\n",
    "print(best_parameters)"
   ]
  },
  {
   "cell_type": "code",
   "execution_count": 22,
   "metadata": {},
   "outputs": [
    {
     "name": "stdout",
     "output_type": "stream",
     "text": [
      "0.964285714286\n",
      "{'C': 0.1, 'gamma': 1}\n",
      "0.973684210526\n"
     ]
    }
   ],
   "source": [
    "#参数过拟合的风险与验证集\n",
    "from sklearn.model_selection import train_test_split\n",
    "from sklearn.svm import SVC\n",
    "X_trainval,X_test,y_trainval,y_test = train_test_split(iris.data,iris.target,random_state=0)\n",
    "X_train,X_valid,y_train,y_valid = train_test_split(X_trainval,y_trainval,random_state=1)\n",
    "best_score=0\n",
    "for gamma in[0.001,0.01,0.1,1,10,100]:\n",
    "    for C in [0.001,0.01,0.1,1,10,100]:\n",
    "        svm = SVC(gamma=gamma,C=C)\n",
    "        svm.fit(X_train,y_train)\n",
    "        score = svm.score(X_valid,y_valid)\n",
    "        if score>=best_score:\n",
    "            best_score=score\n",
    "            best_parameters={'C':C,'gamma':gamma}\n",
    "svm = SVC(**best_parameters)\n",
    "svm.fit(X_trainval,y_trainval)\n",
    "test_score = svm.score(X_test,y_test)\n",
    "print(best_score)\n",
    "print(best_parameters)\n",
    "print(test_score)"
   ]
  },
  {
   "cell_type": "code",
   "execution_count": 26,
   "metadata": {},
   "outputs": [
    {
     "data": {
      "text/plain": [
       "SVC(C=100, cache_size=200, class_weight=None, coef0=0.0,\n",
       "  decision_function_shape='ovr', degree=3, gamma=0.01, kernel='rbf',\n",
       "  max_iter=-1, probability=False, random_state=None, shrinking=True,\n",
       "  tol=0.001, verbose=False)"
      ]
     },
     "execution_count": 26,
     "metadata": {},
     "output_type": "execute_result"
    }
   ],
   "source": [
    "import numpy as np\n",
    "#带交叉验证的网格搜索\n",
    "for gamma in[0.001,0.01,0.1,1,10,100]:\n",
    "    for C in [0.001,0.01,0.1,1,10,100]:\n",
    "        svm = SVC(gamma=gamma,C=C)\n",
    "        svm.fit(X_train,y_train)\n",
    "        scores = cross_val_score(svm,X_trainval,y_trainval,cv=5)\n",
    "        score = np.mean(scores)\n",
    "        if score>=best_score:\n",
    "            best_score=score\n",
    "            best_parameters={'C':C,'gamma':gamma}\n",
    "svm = SVC(**best_parameters)\n",
    "svm.fit(X_trainval,y_trainval)\n",
    "                      \n",
    "            "
   ]
  },
  {
   "cell_type": "code",
   "execution_count": 27,
   "metadata": {},
   "outputs": [
    {
     "name": "stdout",
     "output_type": "stream",
     "text": [
      "0.973684210526\n"
     ]
    }
   ],
   "source": [
    "#GridSearchCV\n",
    "param_grid = {'C':[0.001,0.01,0.1,1,10,100],'gamma':[0.001,0.01,0.1,1,10,100]}\n",
    "\n",
    "from sklearn.model_selection import GridSearchCV\n",
    "from sklearn.svm import SVC\n",
    "grid_search = GridSearchCV(SVC(),param_grid,cv=5)\n",
    "\n",
    "X_train,X_test,y_train,y_test = train_test_split(iris.data,iris.target,random_state=0)\n",
    "grid_search.fit(X_train,y_train)\n",
    "print(grid_search.score(X_test,y_test))"
   ]
  },
  {
   "cell_type": "code",
   "execution_count": 29,
   "metadata": {},
   "outputs": [
    {
     "name": "stdout",
     "output_type": "stream",
     "text": [
      "0.973214285714\n",
      "{'C': 100, 'gamma': 0.01}\n",
      "SVC(C=100, cache_size=200, class_weight=None, coef0=0.0,\n",
      "  decision_function_shape='ovr', degree=3, gamma=0.01, kernel='rbf',\n",
      "  max_iter=-1, probability=False, random_state=None, shrinking=True,\n",
      "  tol=0.001, verbose=False)\n"
     ]
    }
   ],
   "source": [
    "print(grid_search.best_score_)\n",
    "print(grid_search.best_params_)\n",
    "print(grid_search.best_estimator_)"
   ]
  },
  {
   "cell_type": "code",
   "execution_count": 30,
   "metadata": {},
   "outputs": [
    {
     "name": "stderr",
     "output_type": "stream",
     "text": [
      "C:\\Users\\shentao\\Anaconda3\\lib\\site-packages\\sklearn\\utils\\deprecation.py:122: FutureWarning: You are accessing a training score ('mean_train_score'), which will not be available by default any more in 0.21. If you need training scores, please set return_train_score=True\n",
      "  warnings.warn(*warn_args, **warn_kwargs)\n",
      "C:\\Users\\shentao\\Anaconda3\\lib\\site-packages\\sklearn\\utils\\deprecation.py:122: FutureWarning: You are accessing a training score ('split0_train_score'), which will not be available by default any more in 0.21. If you need training scores, please set return_train_score=True\n",
      "  warnings.warn(*warn_args, **warn_kwargs)\n",
      "C:\\Users\\shentao\\Anaconda3\\lib\\site-packages\\sklearn\\utils\\deprecation.py:122: FutureWarning: You are accessing a training score ('split1_train_score'), which will not be available by default any more in 0.21. If you need training scores, please set return_train_score=True\n",
      "  warnings.warn(*warn_args, **warn_kwargs)\n",
      "C:\\Users\\shentao\\Anaconda3\\lib\\site-packages\\sklearn\\utils\\deprecation.py:122: FutureWarning: You are accessing a training score ('split2_train_score'), which will not be available by default any more in 0.21. If you need training scores, please set return_train_score=True\n",
      "  warnings.warn(*warn_args, **warn_kwargs)\n",
      "C:\\Users\\shentao\\Anaconda3\\lib\\site-packages\\sklearn\\utils\\deprecation.py:122: FutureWarning: You are accessing a training score ('split3_train_score'), which will not be available by default any more in 0.21. If you need training scores, please set return_train_score=True\n",
      "  warnings.warn(*warn_args, **warn_kwargs)\n",
      "C:\\Users\\shentao\\Anaconda3\\lib\\site-packages\\sklearn\\utils\\deprecation.py:122: FutureWarning: You are accessing a training score ('split4_train_score'), which will not be available by default any more in 0.21. If you need training scores, please set return_train_score=True\n",
      "  warnings.warn(*warn_args, **warn_kwargs)\n",
      "C:\\Users\\shentao\\Anaconda3\\lib\\site-packages\\sklearn\\utils\\deprecation.py:122: FutureWarning: You are accessing a training score ('std_train_score'), which will not be available by default any more in 0.21. If you need training scores, please set return_train_score=True\n",
      "  warnings.warn(*warn_args, **warn_kwargs)\n"
     ]
    },
    {
     "data": {
      "text/html": [
       "<div>\n",
       "<style>\n",
       "    .dataframe thead tr:only-child th {\n",
       "        text-align: right;\n",
       "    }\n",
       "\n",
       "    .dataframe thead th {\n",
       "        text-align: left;\n",
       "    }\n",
       "\n",
       "    .dataframe tbody tr th {\n",
       "        vertical-align: top;\n",
       "    }\n",
       "</style>\n",
       "<table border=\"1\" class=\"dataframe\">\n",
       "  <thead>\n",
       "    <tr style=\"text-align: right;\">\n",
       "      <th></th>\n",
       "      <th>mean_fit_time</th>\n",
       "      <th>mean_score_time</th>\n",
       "      <th>mean_test_score</th>\n",
       "      <th>mean_train_score</th>\n",
       "      <th>param_C</th>\n",
       "      <th>param_gamma</th>\n",
       "      <th>params</th>\n",
       "      <th>rank_test_score</th>\n",
       "      <th>split0_test_score</th>\n",
       "      <th>split0_train_score</th>\n",
       "      <th>...</th>\n",
       "      <th>split2_test_score</th>\n",
       "      <th>split2_train_score</th>\n",
       "      <th>split3_test_score</th>\n",
       "      <th>split3_train_score</th>\n",
       "      <th>split4_test_score</th>\n",
       "      <th>split4_train_score</th>\n",
       "      <th>std_fit_time</th>\n",
       "      <th>std_score_time</th>\n",
       "      <th>std_test_score</th>\n",
       "      <th>std_train_score</th>\n",
       "    </tr>\n",
       "  </thead>\n",
       "  <tbody>\n",
       "    <tr>\n",
       "      <th>0</th>\n",
       "      <td>0.000799</td>\n",
       "      <td>0.000802</td>\n",
       "      <td>0.366071</td>\n",
       "      <td>0.366079</td>\n",
       "      <td>0.001</td>\n",
       "      <td>0.001</td>\n",
       "      <td>{'C': 0.001, 'gamma': 0.001}</td>\n",
       "      <td>22</td>\n",
       "      <td>0.375</td>\n",
       "      <td>0.363636</td>\n",
       "      <td>...</td>\n",
       "      <td>0.363636</td>\n",
       "      <td>0.366667</td>\n",
       "      <td>0.363636</td>\n",
       "      <td>0.366667</td>\n",
       "      <td>0.380952</td>\n",
       "      <td>0.362637</td>\n",
       "      <td>0.000399</td>\n",
       "      <td>0.000401</td>\n",
       "      <td>0.011371</td>\n",
       "      <td>0.002852</td>\n",
       "    </tr>\n",
       "    <tr>\n",
       "      <th>1</th>\n",
       "      <td>0.000802</td>\n",
       "      <td>0.000599</td>\n",
       "      <td>0.366071</td>\n",
       "      <td>0.366079</td>\n",
       "      <td>0.001</td>\n",
       "      <td>0.01</td>\n",
       "      <td>{'C': 0.001, 'gamma': 0.01}</td>\n",
       "      <td>22</td>\n",
       "      <td>0.375</td>\n",
       "      <td>0.363636</td>\n",
       "      <td>...</td>\n",
       "      <td>0.363636</td>\n",
       "      <td>0.366667</td>\n",
       "      <td>0.363636</td>\n",
       "      <td>0.366667</td>\n",
       "      <td>0.380952</td>\n",
       "      <td>0.362637</td>\n",
       "      <td>0.000401</td>\n",
       "      <td>0.000489</td>\n",
       "      <td>0.011371</td>\n",
       "      <td>0.002852</td>\n",
       "    </tr>\n",
       "    <tr>\n",
       "      <th>2</th>\n",
       "      <td>0.001000</td>\n",
       "      <td>0.000601</td>\n",
       "      <td>0.366071</td>\n",
       "      <td>0.366079</td>\n",
       "      <td>0.001</td>\n",
       "      <td>0.1</td>\n",
       "      <td>{'C': 0.001, 'gamma': 0.1}</td>\n",
       "      <td>22</td>\n",
       "      <td>0.375</td>\n",
       "      <td>0.363636</td>\n",
       "      <td>...</td>\n",
       "      <td>0.363636</td>\n",
       "      <td>0.366667</td>\n",
       "      <td>0.363636</td>\n",
       "      <td>0.366667</td>\n",
       "      <td>0.380952</td>\n",
       "      <td>0.362637</td>\n",
       "      <td>0.000632</td>\n",
       "      <td>0.000490</td>\n",
       "      <td>0.011371</td>\n",
       "      <td>0.002852</td>\n",
       "    </tr>\n",
       "    <tr>\n",
       "      <th>3</th>\n",
       "      <td>0.002201</td>\n",
       "      <td>0.001802</td>\n",
       "      <td>0.366071</td>\n",
       "      <td>0.366079</td>\n",
       "      <td>0.001</td>\n",
       "      <td>1</td>\n",
       "      <td>{'C': 0.001, 'gamma': 1}</td>\n",
       "      <td>22</td>\n",
       "      <td>0.375</td>\n",
       "      <td>0.363636</td>\n",
       "      <td>...</td>\n",
       "      <td>0.363636</td>\n",
       "      <td>0.366667</td>\n",
       "      <td>0.363636</td>\n",
       "      <td>0.366667</td>\n",
       "      <td>0.380952</td>\n",
       "      <td>0.362637</td>\n",
       "      <td>0.001471</td>\n",
       "      <td>0.002137</td>\n",
       "      <td>0.011371</td>\n",
       "      <td>0.002852</td>\n",
       "    </tr>\n",
       "    <tr>\n",
       "      <th>4</th>\n",
       "      <td>0.001801</td>\n",
       "      <td>0.000200</td>\n",
       "      <td>0.366071</td>\n",
       "      <td>0.366079</td>\n",
       "      <td>0.001</td>\n",
       "      <td>10</td>\n",
       "      <td>{'C': 0.001, 'gamma': 10}</td>\n",
       "      <td>22</td>\n",
       "      <td>0.375</td>\n",
       "      <td>0.363636</td>\n",
       "      <td>...</td>\n",
       "      <td>0.363636</td>\n",
       "      <td>0.366667</td>\n",
       "      <td>0.363636</td>\n",
       "      <td>0.366667</td>\n",
       "      <td>0.380952</td>\n",
       "      <td>0.362637</td>\n",
       "      <td>0.000750</td>\n",
       "      <td>0.000400</td>\n",
       "      <td>0.011371</td>\n",
       "      <td>0.002852</td>\n",
       "    </tr>\n",
       "  </tbody>\n",
       "</table>\n",
       "<p>5 rows × 22 columns</p>\n",
       "</div>"
      ],
      "text/plain": [
       "   mean_fit_time  mean_score_time  mean_test_score  mean_train_score param_C  \\\n",
       "0       0.000799         0.000802         0.366071          0.366079   0.001   \n",
       "1       0.000802         0.000599         0.366071          0.366079   0.001   \n",
       "2       0.001000         0.000601         0.366071          0.366079   0.001   \n",
       "3       0.002201         0.001802         0.366071          0.366079   0.001   \n",
       "4       0.001801         0.000200         0.366071          0.366079   0.001   \n",
       "\n",
       "  param_gamma                        params  rank_test_score  \\\n",
       "0       0.001  {'C': 0.001, 'gamma': 0.001}               22   \n",
       "1        0.01   {'C': 0.001, 'gamma': 0.01}               22   \n",
       "2         0.1    {'C': 0.001, 'gamma': 0.1}               22   \n",
       "3           1      {'C': 0.001, 'gamma': 1}               22   \n",
       "4          10     {'C': 0.001, 'gamma': 10}               22   \n",
       "\n",
       "   split0_test_score  split0_train_score       ...         split2_test_score  \\\n",
       "0              0.375            0.363636       ...                  0.363636   \n",
       "1              0.375            0.363636       ...                  0.363636   \n",
       "2              0.375            0.363636       ...                  0.363636   \n",
       "3              0.375            0.363636       ...                  0.363636   \n",
       "4              0.375            0.363636       ...                  0.363636   \n",
       "\n",
       "   split2_train_score  split3_test_score  split3_train_score  \\\n",
       "0            0.366667           0.363636            0.366667   \n",
       "1            0.366667           0.363636            0.366667   \n",
       "2            0.366667           0.363636            0.366667   \n",
       "3            0.366667           0.363636            0.366667   \n",
       "4            0.366667           0.363636            0.366667   \n",
       "\n",
       "   split4_test_score  split4_train_score  std_fit_time  std_score_time  \\\n",
       "0           0.380952            0.362637      0.000399        0.000401   \n",
       "1           0.380952            0.362637      0.000401        0.000489   \n",
       "2           0.380952            0.362637      0.000632        0.000490   \n",
       "3           0.380952            0.362637      0.001471        0.002137   \n",
       "4           0.380952            0.362637      0.000750        0.000400   \n",
       "\n",
       "   std_test_score  std_train_score  \n",
       "0        0.011371         0.002852  \n",
       "1        0.011371         0.002852  \n",
       "2        0.011371         0.002852  \n",
       "3        0.011371         0.002852  \n",
       "4        0.011371         0.002852  \n",
       "\n",
       "[5 rows x 22 columns]"
      ]
     },
     "execution_count": 30,
     "metadata": {},
     "output_type": "execute_result"
    }
   ],
   "source": [
    "#分析交叉验证的结果\n",
    "import pandas as pd\n",
    "results = pd.DataFrame(grid_search.cv_results_)\n",
    "results.head()"
   ]
  },
  {
   "cell_type": "code",
   "execution_count": 33,
   "metadata": {},
   "outputs": [
    {
     "data": {
      "text/plain": [
       "<matplotlib.collections.PolyCollection at 0x1ede65b6978>"
      ]
     },
     "execution_count": 33,
     "metadata": {},
     "output_type": "execute_result"
    },
    {
     "data": {
      "image/png": "[encoded data removed]",
      "text/plain": [
       "<matplotlib.figure.Figure at 0x1ede64cf550>"
      ]
     },
     "metadata": {},
     "output_type": "display_data"
    }
   ],
   "source": [
    "import mglearn\n",
    "import matplotlib.pyplot as plt\n",
    "%matplotlib inline\n",
    "scores = np.array(results.mean_test_score).reshape(6,6)\n",
    "mglearn.tools.heatmap(scores,xlabel='gamma',xticklabels=param_grid['gamma'],ylabel='C',yticklabels=param_grid['C'],cmap='viridis')"
   ]
  },
  {
   "cell_type": "code",
   "execution_count": 35,
   "metadata": {},
   "outputs": [
    {
     "name": "stdout",
     "output_type": "stream",
     "text": [
      "{'C': 100, 'gamma': 0.01, 'kernel': 'rbf'}\n",
      "0.973214285714\n"
     ]
    }
   ],
   "source": [
    "#在非网格的空间中搜索\n",
    "param_grid = [{'kernel':['rbf'],'C':[0.001,0.01,0.1,1,10,100],'gamma':[0.001,0.01,0.1,1,10,100]},\n",
    "              {'kernel':['linear'],'C':[0.001,0.01,0.1,1,10,100]}]\n",
    "grid_search = GridSearchCV(SVC(),param_grid,cv=5)\n",
    "grid_search.fit(X_train,y_train)\n",
    "print(grid_search.best_params_)\n",
    "print(grid_search.best_score_)\n"
   ]
  },
  {
   "cell_type": "code",
   "execution_count": 36,
   "metadata": {},
   "outputs": [
    {
     "name": "stderr",
     "output_type": "stream",
     "text": [
      "C:\\Users\\shentao\\Anaconda3\\lib\\site-packages\\sklearn\\utils\\deprecation.py:122: FutureWarning: You are accessing a training score ('mean_train_score'), which will not be available by default any more in 0.21. If you need training scores, please set return_train_score=True\n",
      "  warnings.warn(*warn_args, **warn_kwargs)\n",
      "C:\\Users\\shentao\\Anaconda3\\lib\\site-packages\\sklearn\\utils\\deprecation.py:122: FutureWarning: You are accessing a training score ('split0_train_score'), which will not be available by default any more in 0.21. If you need training scores, please set return_train_score=True\n",
      "  warnings.warn(*warn_args, **warn_kwargs)\n",
      "C:\\Users\\shentao\\Anaconda3\\lib\\site-packages\\sklearn\\utils\\deprecation.py:122: FutureWarning: You are accessing a training score ('split1_train_score'), which will not be available by default any more in 0.21. If you need training scores, please set return_train_score=True\n",
      "  warnings.warn(*warn_args, **warn_kwargs)\n",
      "C:\\Users\\shentao\\Anaconda3\\lib\\site-packages\\sklearn\\utils\\deprecation.py:122: FutureWarning: You are accessing a training score ('split2_train_score'), which will not be available by default any more in 0.21. If you need training scores, please set return_train_score=True\n",
      "  warnings.warn(*warn_args, **warn_kwargs)\n",
      "C:\\Users\\shentao\\Anaconda3\\lib\\site-packages\\sklearn\\utils\\deprecation.py:122: FutureWarning: You are accessing a training score ('split3_train_score'), which will not be available by default any more in 0.21. If you need training scores, please set return_train_score=True\n",
      "  warnings.warn(*warn_args, **warn_kwargs)\n",
      "C:\\Users\\shentao\\Anaconda3\\lib\\site-packages\\sklearn\\utils\\deprecation.py:122: FutureWarning: You are accessing a training score ('split4_train_score'), which will not be available by default any more in 0.21. If you need training scores, please set return_train_score=True\n",
      "  warnings.warn(*warn_args, **warn_kwargs)\n",
      "C:\\Users\\shentao\\Anaconda3\\lib\\site-packages\\sklearn\\utils\\deprecation.py:122: FutureWarning: You are accessing a training score ('std_train_score'), which will not be available by default any more in 0.21. If you need training scores, please set return_train_score=True\n",
      "  warnings.warn(*warn_args, **warn_kwargs)\n"
     ]
    },
    {
     "data": {
      "text/html": [
       "<div>\n",
       "<style>\n",
       "    .dataframe thead tr:only-child th {\n",
       "        text-align: right;\n",
       "    }\n",
       "\n",
       "    .dataframe thead th {\n",
       "        text-align: left;\n",
       "    }\n",
       "\n",
       "    .dataframe tbody tr th {\n",
       "        vertical-align: top;\n",
       "    }\n",
       "</style>\n",
       "<table border=\"1\" class=\"dataframe\">\n",
       "  <thead>\n",
       "    <tr style=\"text-align: right;\">\n",
       "      <th></th>\n",
       "      <th>0</th>\n",
       "      <th>1</th>\n",
       "      <th>2</th>\n",
       "      <th>3</th>\n",
       "      <th>4</th>\n",
       "      <th>5</th>\n",
       "      <th>6</th>\n",
       "      <th>7</th>\n",
       "      <th>8</th>\n",
       "      <th>9</th>\n",
       "      <th>...</th>\n",
       "      <th>26</th>\n",
       "      <th>27</th>\n",
       "      <th>28</th>\n",
       "      <th>29</th>\n",
       "      <th>30</th>\n",
       "      <th>31</th>\n",
       "      <th>32</th>\n",
       "      <th>33</th>\n",
       "      <th>34</th>\n",
       "      <th>35</th>\n",
       "    </tr>\n",
       "  </thead>\n",
       "  <tbody>\n",
       "    <tr>\n",
       "      <th>mean_fit_time</th>\n",
       "      <td>0.000798607</td>\n",
       "      <td>0.000802231</td>\n",
       "      <td>0.00100026</td>\n",
       "      <td>0.00220103</td>\n",
       "      <td>0.00180135</td>\n",
       "      <td>0.00100064</td>\n",
       "      <td>0.00080061</td>\n",
       "      <td>0.000800514</td>\n",
       "      <td>0.00140166</td>\n",
       "      <td>0.000600338</td>\n",
       "      <td>...</td>\n",
       "      <td>0.000600719</td>\n",
       "      <td>0.000399923</td>\n",
       "      <td>0.000801182</td>\n",
       "      <td>0.00100112</td>\n",
       "      <td>0.00060029</td>\n",
       "      <td>0.000200129</td>\n",
       "      <td>0.000800562</td>\n",
       "      <td>0.000600481</td>\n",
       "      <td>0.00100145</td>\n",
       "      <td>0.00120096</td>\n",
       "    </tr>\n",
       "    <tr>\n",
       "      <th>mean_score_time</th>\n",
       "      <td>0.000801802</td>\n",
       "      <td>0.000598812</td>\n",
       "      <td>0.000600624</td>\n",
       "      <td>0.00180182</td>\n",
       "      <td>0.000199795</td>\n",
       "      <td>0.000400448</td>\n",
       "      <td>0.000400352</td>\n",
       "      <td>0.000200081</td>\n",
       "      <td>0.000200367</td>\n",
       "      <td>0.000600624</td>\n",
       "      <td>...</td>\n",
       "      <td>0.000199699</td>\n",
       "      <td>0.000400114</td>\n",
       "      <td>0.000599766</td>\n",
       "      <td>0.000400019</td>\n",
       "      <td>0.000200415</td>\n",
       "      <td>0.000400305</td>\n",
       "      <td>0</td>\n",
       "      <td>0.00020051</td>\n",
       "      <td>0.000399494</td>\n",
       "      <td>0.000200129</td>\n",
       "    </tr>\n",
       "    <tr>\n",
       "      <th>mean_test_score</th>\n",
       "      <td>0.366071</td>\n",
       "      <td>0.366071</td>\n",
       "      <td>0.366071</td>\n",
       "      <td>0.366071</td>\n",
       "      <td>0.366071</td>\n",
       "      <td>0.366071</td>\n",
       "      <td>0.366071</td>\n",
       "      <td>0.366071</td>\n",
       "      <td>0.366071</td>\n",
       "      <td>0.366071</td>\n",
       "      <td>...</td>\n",
       "      <td>0.964286</td>\n",
       "      <td>0.9375</td>\n",
       "      <td>0.919643</td>\n",
       "      <td>0.5625</td>\n",
       "      <td>0.964286</td>\n",
       "      <td>0.973214</td>\n",
       "      <td>0.955357</td>\n",
       "      <td>0.946429</td>\n",
       "      <td>0.919643</td>\n",
       "      <td>0.5625</td>\n",
       "    </tr>\n",
       "    <tr>\n",
       "      <th>mean_train_score</th>\n",
       "      <td>0.366079</td>\n",
       "      <td>0.366079</td>\n",
       "      <td>0.366079</td>\n",
       "      <td>0.366079</td>\n",
       "      <td>0.366079</td>\n",
       "      <td>0.366079</td>\n",
       "      <td>0.366079</td>\n",
       "      <td>0.366079</td>\n",
       "      <td>0.366079</td>\n",
       "      <td>0.366079</td>\n",
       "      <td>...</td>\n",
       "      <td>0.986566</td>\n",
       "      <td>0.986591</td>\n",
       "      <td>1</td>\n",
       "      <td>1</td>\n",
       "      <td>0.977676</td>\n",
       "      <td>0.984368</td>\n",
       "      <td>0.988788</td>\n",
       "      <td>1</td>\n",
       "      <td>1</td>\n",
       "      <td>1</td>\n",
       "    </tr>\n",
       "    <tr>\n",
       "      <th>param_C</th>\n",
       "      <td>0.001</td>\n",
       "      <td>0.001</td>\n",
       "      <td>0.001</td>\n",
       "      <td>0.001</td>\n",
       "      <td>0.001</td>\n",
       "      <td>0.001</td>\n",
       "      <td>0.01</td>\n",
       "      <td>0.01</td>\n",
       "      <td>0.01</td>\n",
       "      <td>0.01</td>\n",
       "      <td>...</td>\n",
       "      <td>10</td>\n",
       "      <td>10</td>\n",
       "      <td>10</td>\n",
       "      <td>10</td>\n",
       "      <td>100</td>\n",
       "      <td>100</td>\n",
       "      <td>100</td>\n",
       "      <td>100</td>\n",
       "      <td>100</td>\n",
       "      <td>100</td>\n",
       "    </tr>\n",
       "    <tr>\n",
       "      <th>param_gamma</th>\n",
       "      <td>0.001</td>\n",
       "      <td>0.01</td>\n",
       "      <td>0.1</td>\n",
       "      <td>1</td>\n",
       "      <td>10</td>\n",
       "      <td>100</td>\n",
       "      <td>0.001</td>\n",
       "      <td>0.01</td>\n",
       "      <td>0.1</td>\n",
       "      <td>1</td>\n",
       "      <td>...</td>\n",
       "      <td>0.1</td>\n",
       "      <td>1</td>\n",
       "      <td>10</td>\n",
       "      <td>100</td>\n",
       "      <td>0.001</td>\n",
       "      <td>0.01</td>\n",
       "      <td>0.1</td>\n",
       "      <td>1</td>\n",
       "      <td>10</td>\n",
       "      <td>100</td>\n",
       "    </tr>\n",
       "    <tr>\n",
       "      <th>params</th>\n",
       "      <td>{'C': 0.001, 'gamma': 0.001}</td>\n",
       "      <td>{'C': 0.001, 'gamma': 0.01}</td>\n",
       "      <td>{'C': 0.001, 'gamma': 0.1}</td>\n",
       "      <td>{'C': 0.001, 'gamma': 1}</td>\n",
       "      <td>{'C': 0.001, 'gamma': 10}</td>\n",
       "      <td>{'C': 0.001, 'gamma': 100}</td>\n",
       "      <td>{'C': 0.01, 'gamma': 0.001}</td>\n",
       "      <td>{'C': 0.01, 'gamma': 0.01}</td>\n",
       "      <td>{'C': 0.01, 'gamma': 0.1}</td>\n",
       "      <td>{'C': 0.01, 'gamma': 1}</td>\n",
       "      <td>...</td>\n",
       "      <td>{'C': 10, 'gamma': 0.1}</td>\n",
       "      <td>{'C': 10, 'gamma': 1}</td>\n",
       "      <td>{'C': 10, 'gamma': 10}</td>\n",
       "      <td>{'C': 10, 'gamma': 100}</td>\n",
       "      <td>{'C': 100, 'gamma': 0.001}</td>\n",
       "      <td>{'C': 100, 'gamma': 0.01}</td>\n",
       "      <td>{'C': 100, 'gamma': 0.1}</td>\n",
       "      <td>{'C': 100, 'gamma': 1}</td>\n",
       "      <td>{'C': 100, 'gamma': 10}</td>\n",
       "      <td>{'C': 100, 'gamma': 100}</td>\n",
       "    </tr>\n",
       "    <tr>\n",
       "      <th>rank_test_score</th>\n",
       "      <td>22</td>\n",
       "      <td>22</td>\n",
       "      <td>22</td>\n",
       "      <td>22</td>\n",
       "      <td>22</td>\n",
       "      <td>22</td>\n",
       "      <td>22</td>\n",
       "      <td>22</td>\n",
       "      <td>22</td>\n",
       "      <td>22</td>\n",
       "      <td>...</td>\n",
       "      <td>2</td>\n",
       "      <td>10</td>\n",
       "      <td>13</td>\n",
       "      <td>19</td>\n",
       "      <td>2</td>\n",
       "      <td>1</td>\n",
       "      <td>6</td>\n",
       "      <td>8</td>\n",
       "      <td>13</td>\n",
       "      <td>19</td>\n",
       "    </tr>\n",
       "    <tr>\n",
       "      <th>split0_test_score</th>\n",
       "      <td>0.375</td>\n",
       "      <td>0.375</td>\n",
       "      <td>0.375</td>\n",
       "      <td>0.375</td>\n",
       "      <td>0.375</td>\n",
       "      <td>0.375</td>\n",
       "      <td>0.375</td>\n",
       "      <td>0.375</td>\n",
       "      <td>0.375</td>\n",
       "      <td>0.375</td>\n",
       "      <td>...</td>\n",
       "      <td>0.958333</td>\n",
       "      <td>0.916667</td>\n",
       "      <td>0.875</td>\n",
       "      <td>0.541667</td>\n",
       "      <td>1</td>\n",
       "      <td>1</td>\n",
       "      <td>0.958333</td>\n",
       "      <td>0.916667</td>\n",
       "      <td>0.875</td>\n",
       "      <td>0.541667</td>\n",
       "    </tr>\n",
       "    <tr>\n",
       "      <th>split0_train_score</th>\n",
       "      <td>0.363636</td>\n",
       "      <td>0.363636</td>\n",
       "      <td>0.363636</td>\n",
       "      <td>0.363636</td>\n",
       "      <td>0.363636</td>\n",
       "      <td>0.363636</td>\n",
       "      <td>0.363636</td>\n",
       "      <td>0.363636</td>\n",
       "      <td>0.363636</td>\n",
       "      <td>0.363636</td>\n",
       "      <td>...</td>\n",
       "      <td>0.988636</td>\n",
       "      <td>0.988636</td>\n",
       "      <td>1</td>\n",
       "      <td>1</td>\n",
       "      <td>0.977273</td>\n",
       "      <td>0.988636</td>\n",
       "      <td>0.988636</td>\n",
       "      <td>1</td>\n",
       "      <td>1</td>\n",
       "      <td>1</td>\n",
       "    </tr>\n",
       "    <tr>\n",
       "      <th>split1_test_score</th>\n",
       "      <td>0.347826</td>\n",
       "      <td>0.347826</td>\n",
       "      <td>0.347826</td>\n",
       "      <td>0.347826</td>\n",
       "      <td>0.347826</td>\n",
       "      <td>0.347826</td>\n",
       "      <td>0.347826</td>\n",
       "      <td>0.347826</td>\n",
       "      <td>0.347826</td>\n",
       "      <td>0.347826</td>\n",
       "      <td>...</td>\n",
       "      <td>0.956522</td>\n",
       "      <td>0.956522</td>\n",
       "      <td>0.956522</td>\n",
       "      <td>0.478261</td>\n",
       "      <td>0.956522</td>\n",
       "      <td>0.956522</td>\n",
       "      <td>1</td>\n",
       "      <td>1</td>\n",
       "      <td>0.956522</td>\n",
       "      <td>0.478261</td>\n",
       "    </tr>\n",
       "    <tr>\n",
       "      <th>split1_train_score</th>\n",
       "      <td>0.370787</td>\n",
       "      <td>0.370787</td>\n",
       "      <td>0.370787</td>\n",
       "      <td>0.370787</td>\n",
       "      <td>0.370787</td>\n",
       "      <td>0.370787</td>\n",
       "      <td>0.370787</td>\n",
       "      <td>0.370787</td>\n",
       "      <td>0.370787</td>\n",
       "      <td>0.370787</td>\n",
       "      <td>...</td>\n",
       "      <td>0.977528</td>\n",
       "      <td>0.977528</td>\n",
       "      <td>1</td>\n",
       "      <td>1</td>\n",
       "      <td>0.977528</td>\n",
       "      <td>0.977528</td>\n",
       "      <td>0.977528</td>\n",
       "      <td>1</td>\n",
       "      <td>1</td>\n",
       "      <td>1</td>\n",
       "    </tr>\n",
       "    <tr>\n",
       "      <th>split2_test_score</th>\n",
       "      <td>0.363636</td>\n",
       "      <td>0.363636</td>\n",
       "      <td>0.363636</td>\n",
       "      <td>0.363636</td>\n",
       "      <td>0.363636</td>\n",
       "      <td>0.363636</td>\n",
       "      <td>0.363636</td>\n",
       "      <td>0.363636</td>\n",
       "      <td>0.363636</td>\n",
       "      <td>0.363636</td>\n",
       "      <td>...</td>\n",
       "      <td>1</td>\n",
       "      <td>1</td>\n",
       "      <td>1</td>\n",
       "      <td>0.590909</td>\n",
       "      <td>1</td>\n",
       "      <td>1</td>\n",
       "      <td>1</td>\n",
       "      <td>1</td>\n",
       "      <td>1</td>\n",
       "      <td>0.590909</td>\n",
       "    </tr>\n",
       "    <tr>\n",
       "      <th>split2_train_score</th>\n",
       "      <td>0.366667</td>\n",
       "      <td>0.366667</td>\n",
       "      <td>0.366667</td>\n",
       "      <td>0.366667</td>\n",
       "      <td>0.366667</td>\n",
       "      <td>0.366667</td>\n",
       "      <td>0.366667</td>\n",
       "      <td>0.366667</td>\n",
       "      <td>0.366667</td>\n",
       "      <td>0.366667</td>\n",
       "      <td>...</td>\n",
       "      <td>0.977778</td>\n",
       "      <td>0.977778</td>\n",
       "      <td>1</td>\n",
       "      <td>1</td>\n",
       "      <td>0.966667</td>\n",
       "      <td>0.977778</td>\n",
       "      <td>0.977778</td>\n",
       "      <td>1</td>\n",
       "      <td>1</td>\n",
       "      <td>1</td>\n",
       "    </tr>\n",
       "    <tr>\n",
       "      <th>split3_test_score</th>\n",
       "      <td>0.363636</td>\n",
       "      <td>0.363636</td>\n",
       "      <td>0.363636</td>\n",
       "      <td>0.363636</td>\n",
       "      <td>0.363636</td>\n",
       "      <td>0.363636</td>\n",
       "      <td>0.363636</td>\n",
       "      <td>0.363636</td>\n",
       "      <td>0.363636</td>\n",
       "      <td>0.363636</td>\n",
       "      <td>...</td>\n",
       "      <td>0.954545</td>\n",
       "      <td>0.863636</td>\n",
       "      <td>0.818182</td>\n",
       "      <td>0.590909</td>\n",
       "      <td>0.909091</td>\n",
       "      <td>0.954545</td>\n",
       "      <td>0.863636</td>\n",
       "      <td>0.863636</td>\n",
       "      <td>0.818182</td>\n",
       "      <td>0.590909</td>\n",
       "    </tr>\n",
       "    <tr>\n",
       "      <th>split3_train_score</th>\n",
       "      <td>0.366667</td>\n",
       "      <td>0.366667</td>\n",
       "      <td>0.366667</td>\n",
       "      <td>0.366667</td>\n",
       "      <td>0.366667</td>\n",
       "      <td>0.366667</td>\n",
       "      <td>0.366667</td>\n",
       "      <td>0.366667</td>\n",
       "      <td>0.366667</td>\n",
       "      <td>0.366667</td>\n",
       "      <td>...</td>\n",
       "      <td>0.988889</td>\n",
       "      <td>1</td>\n",
       "      <td>1</td>\n",
       "      <td>1</td>\n",
       "      <td>0.988889</td>\n",
       "      <td>0.988889</td>\n",
       "      <td>1</td>\n",
       "      <td>1</td>\n",
       "      <td>1</td>\n",
       "      <td>1</td>\n",
       "    </tr>\n",
       "    <tr>\n",
       "      <th>split4_test_score</th>\n",
       "      <td>0.380952</td>\n",
       "      <td>0.380952</td>\n",
       "      <td>0.380952</td>\n",
       "      <td>0.380952</td>\n",
       "      <td>0.380952</td>\n",
       "      <td>0.380952</td>\n",
       "      <td>0.380952</td>\n",
       "      <td>0.380952</td>\n",
       "      <td>0.380952</td>\n",
       "      <td>0.380952</td>\n",
       "      <td>...</td>\n",
       "      <td>0.952381</td>\n",
       "      <td>0.952381</td>\n",
       "      <td>0.952381</td>\n",
       "      <td>0.619048</td>\n",
       "      <td>0.952381</td>\n",
       "      <td>0.952381</td>\n",
       "      <td>0.952381</td>\n",
       "      <td>0.952381</td>\n",
       "      <td>0.952381</td>\n",
       "      <td>0.619048</td>\n",
       "    </tr>\n",
       "    <tr>\n",
       "      <th>split4_train_score</th>\n",
       "      <td>0.362637</td>\n",
       "      <td>0.362637</td>\n",
       "      <td>0.362637</td>\n",
       "      <td>0.362637</td>\n",
       "      <td>0.362637</td>\n",
       "      <td>0.362637</td>\n",
       "      <td>0.362637</td>\n",
       "      <td>0.362637</td>\n",
       "      <td>0.362637</td>\n",
       "      <td>0.362637</td>\n",
       "      <td>...</td>\n",
       "      <td>1</td>\n",
       "      <td>0.989011</td>\n",
       "      <td>1</td>\n",
       "      <td>1</td>\n",
       "      <td>0.978022</td>\n",
       "      <td>0.989011</td>\n",
       "      <td>1</td>\n",
       "      <td>1</td>\n",
       "      <td>1</td>\n",
       "      <td>1</td>\n",
       "    </tr>\n",
       "    <tr>\n",
       "      <th>std_fit_time</th>\n",
       "      <td>0.000399305</td>\n",
       "      <td>0.000401119</td>\n",
       "      <td>0.00063241</td>\n",
       "      <td>0.00147108</td>\n",
       "      <td>0.000750333</td>\n",
       "      <td>0.000632787</td>\n",
       "      <td>0.000748838</td>\n",
       "      <td>0.000400257</td>\n",
       "      <td>0.000490956</td>\n",
       "      <td>0.000490174</td>\n",
       "      <td>...</td>\n",
       "      <td>0.000490487</td>\n",
       "      <td>0.000489804</td>\n",
       "      <td>0.000400592</td>\n",
       "      <td>9.88791e-07</td>\n",
       "      <td>0.000490135</td>\n",
       "      <td>0.000400257</td>\n",
       "      <td>0.000749017</td>\n",
       "      <td>0.000490291</td>\n",
       "      <td>1.62824e-06</td>\n",
       "      <td>0.000401115</td>\n",
       "    </tr>\n",
       "    <tr>\n",
       "      <th>std_score_time</th>\n",
       "      <td>0.000400903</td>\n",
       "      <td>0.00048893</td>\n",
       "      <td>0.000490408</td>\n",
       "      <td>0.00213732</td>\n",
       "      <td>0.00039959</td>\n",
       "      <td>0.000490447</td>\n",
       "      <td>0.00049033</td>\n",
       "      <td>0.000400162</td>\n",
       "      <td>0.000400734</td>\n",
       "      <td>0.000490408</td>\n",
       "      <td>...</td>\n",
       "      <td>0.000399399</td>\n",
       "      <td>0.000490038</td>\n",
       "      <td>0.000489708</td>\n",
       "      <td>0.000489921</td>\n",
       "      <td>0.000400829</td>\n",
       "      <td>0.000490271</td>\n",
       "      <td>0</td>\n",
       "      <td>0.00040102</td>\n",
       "      <td>0.00048928</td>\n",
       "      <td>0.000400257</td>\n",
       "    </tr>\n",
       "    <tr>\n",
       "      <th>std_test_score</th>\n",
       "      <td>0.0113708</td>\n",
       "      <td>0.0113708</td>\n",
       "      <td>0.0113708</td>\n",
       "      <td>0.0113708</td>\n",
       "      <td>0.0113708</td>\n",
       "      <td>0.0113708</td>\n",
       "      <td>0.0113708</td>\n",
       "      <td>0.0113708</td>\n",
       "      <td>0.0113708</td>\n",
       "      <td>0.0113708</td>\n",
       "      <td>...</td>\n",
       "      <td>0.0177687</td>\n",
       "      <td>0.0452528</td>\n",
       "      <td>0.0647906</td>\n",
       "      <td>0.0496678</td>\n",
       "      <td>0.0340769</td>\n",
       "      <td>0.0223995</td>\n",
       "      <td>0.0495662</td>\n",
       "      <td>0.0519227</td>\n",
       "      <td>0.0647906</td>\n",
       "      <td>0.0496678</td>\n",
       "    </tr>\n",
       "    <tr>\n",
       "      <th>std_train_score</th>\n",
       "      <td>0.00285176</td>\n",
       "      <td>0.00285176</td>\n",
       "      <td>0.00285176</td>\n",
       "      <td>0.00285176</td>\n",
       "      <td>0.00285176</td>\n",
       "      <td>0.00285176</td>\n",
       "      <td>0.00285176</td>\n",
       "      <td>0.00285176</td>\n",
       "      <td>0.00285176</td>\n",
       "      <td>0.00285176</td>\n",
       "      <td>...</td>\n",
       "      <td>0.00835549</td>\n",
       "      <td>0.00836242</td>\n",
       "      <td>0</td>\n",
       "      <td>0</td>\n",
       "      <td>0.00703191</td>\n",
       "      <td>0.00548507</td>\n",
       "      <td>0.00999451</td>\n",
       "      <td>0</td>\n",
       "      <td>0</td>\n",
       "      <td>0</td>\n",
       "    </tr>\n",
       "  </tbody>\n",
       "</table>\n",
       "<p>22 rows × 36 columns</p>\n",
       "</div>"
      ],
      "text/plain": [
       "                                              0                            1   \\\n",
       "mean_fit_time                        0.000798607                  0.000802231   \n",
       "mean_score_time                      0.000801802                  0.000598812   \n",
       "mean_test_score                         0.366071                     0.366071   \n",
       "mean_train_score                        0.366079                     0.366079   \n",
       "param_C                                    0.001                        0.001   \n",
       "param_gamma                                0.001                         0.01   \n",
       "params              {'C': 0.001, 'gamma': 0.001}  {'C': 0.001, 'gamma': 0.01}   \n",
       "rank_test_score                               22                           22   \n",
       "split0_test_score                          0.375                        0.375   \n",
       "split0_train_score                      0.363636                     0.363636   \n",
       "split1_test_score                       0.347826                     0.347826   \n",
       "split1_train_score                      0.370787                     0.370787   \n",
       "split2_test_score                       0.363636                     0.363636   \n",
       "split2_train_score                      0.366667                     0.366667   \n",
       "split3_test_score                       0.363636                     0.363636   \n",
       "split3_train_score                      0.366667                     0.366667   \n",
       "split4_test_score                       0.380952                     0.380952   \n",
       "split4_train_score                      0.362637                     0.362637   \n",
       "std_fit_time                         0.000399305                  0.000401119   \n",
       "std_score_time                       0.000400903                   0.00048893   \n",
       "std_test_score                         0.0113708                    0.0113708   \n",
       "std_train_score                       0.00285176                   0.00285176   \n",
       "\n",
       "                                            2                         3   \\\n",
       "mean_fit_time                       0.00100026                0.00220103   \n",
       "mean_score_time                    0.000600624                0.00180182   \n",
       "mean_test_score                       0.366071                  0.366071   \n",
       "mean_train_score                      0.366079                  0.366079   \n",
       "param_C                                  0.001                     0.001   \n",
       "param_gamma                                0.1                         1   \n",
       "params              {'C': 0.001, 'gamma': 0.1}  {'C': 0.001, 'gamma': 1}   \n",
       "rank_test_score                             22                        22   \n",
       "split0_test_score                        0.375                     0.375   \n",
       "split0_train_score                    0.363636                  0.363636   \n",
       "split1_test_score                     0.347826                  0.347826   \n",
       "split1_train_score                    0.370787                  0.370787   \n",
       "split2_test_score                     0.363636                  0.363636   \n",
       "split2_train_score                    0.366667                  0.366667   \n",
       "split3_test_score                     0.363636                  0.363636   \n",
       "split3_train_score                    0.366667                  0.366667   \n",
       "split4_test_score                     0.380952                  0.380952   \n",
       "split4_train_score                    0.362637                  0.362637   \n",
       "std_fit_time                        0.00063241                0.00147108   \n",
       "std_score_time                     0.000490408                0.00213732   \n",
       "std_test_score                       0.0113708                 0.0113708   \n",
       "std_train_score                     0.00285176                0.00285176   \n",
       "\n",
       "                                           4                           5   \\\n",
       "mean_fit_time                      0.00180135                  0.00100064   \n",
       "mean_score_time                   0.000199795                 0.000400448   \n",
       "mean_test_score                      0.366071                    0.366071   \n",
       "mean_train_score                     0.366079                    0.366079   \n",
       "param_C                                 0.001                       0.001   \n",
       "param_gamma                                10                         100   \n",
       "params              {'C': 0.001, 'gamma': 10}  {'C': 0.001, 'gamma': 100}   \n",
       "rank_test_score                            22                          22   \n",
       "split0_test_score                       0.375                       0.375   \n",
       "split0_train_score                   0.363636                    0.363636   \n",
       "split1_test_score                    0.347826                    0.347826   \n",
       "split1_train_score                   0.370787                    0.370787   \n",
       "split2_test_score                    0.363636                    0.363636   \n",
       "split2_train_score                   0.366667                    0.366667   \n",
       "split3_test_score                    0.363636                    0.363636   \n",
       "split3_train_score                   0.366667                    0.366667   \n",
       "split4_test_score                    0.380952                    0.380952   \n",
       "split4_train_score                   0.362637                    0.362637   \n",
       "std_fit_time                      0.000750333                 0.000632787   \n",
       "std_score_time                     0.00039959                 0.000490447   \n",
       "std_test_score                      0.0113708                   0.0113708   \n",
       "std_train_score                    0.00285176                  0.00285176   \n",
       "\n",
       "                                             6                           7   \\\n",
       "mean_fit_time                        0.00080061                 0.000800514   \n",
       "mean_score_time                     0.000400352                 0.000200081   \n",
       "mean_test_score                        0.366071                    0.366071   \n",
       "mean_train_score                       0.366079                    0.366079   \n",
       "param_C                                    0.01                        0.01   \n",
       "param_gamma                               0.001                        0.01   \n",
       "params              {'C': 0.01, 'gamma': 0.001}  {'C': 0.01, 'gamma': 0.01}   \n",
       "rank_test_score                              22                          22   \n",
       "split0_test_score                         0.375                       0.375   \n",
       "split0_train_score                     0.363636                    0.363636   \n",
       "split1_test_score                      0.347826                    0.347826   \n",
       "split1_train_score                     0.370787                    0.370787   \n",
       "split2_test_score                      0.363636                    0.363636   \n",
       "split2_train_score                     0.366667                    0.366667   \n",
       "split3_test_score                      0.363636                    0.363636   \n",
       "split3_train_score                     0.366667                    0.366667   \n",
       "split4_test_score                      0.380952                    0.380952   \n",
       "split4_train_score                     0.362637                    0.362637   \n",
       "std_fit_time                        0.000748838                 0.000400257   \n",
       "std_score_time                       0.00049033                 0.000400162   \n",
       "std_test_score                        0.0113708                   0.0113708   \n",
       "std_train_score                      0.00285176                  0.00285176   \n",
       "\n",
       "                                           8                        9   \\\n",
       "mean_fit_time                      0.00140166              0.000600338   \n",
       "mean_score_time                   0.000200367              0.000600624   \n",
       "mean_test_score                      0.366071                 0.366071   \n",
       "mean_train_score                     0.366079                 0.366079   \n",
       "param_C                                  0.01                     0.01   \n",
       "param_gamma                               0.1                        1   \n",
       "params              {'C': 0.01, 'gamma': 0.1}  {'C': 0.01, 'gamma': 1}   \n",
       "rank_test_score                            22                       22   \n",
       "split0_test_score                       0.375                    0.375   \n",
       "split0_train_score                   0.363636                 0.363636   \n",
       "split1_test_score                    0.347826                 0.347826   \n",
       "split1_train_score                   0.370787                 0.370787   \n",
       "split2_test_score                    0.363636                 0.363636   \n",
       "split2_train_score                   0.366667                 0.366667   \n",
       "split3_test_score                    0.363636                 0.363636   \n",
       "split3_train_score                   0.366667                 0.366667   \n",
       "split4_test_score                    0.380952                 0.380952   \n",
       "split4_train_score                   0.362637                 0.362637   \n",
       "std_fit_time                      0.000490956              0.000490174   \n",
       "std_score_time                    0.000400734              0.000490408   \n",
       "std_test_score                      0.0113708                0.0113708   \n",
       "std_train_score                    0.00285176               0.00285176   \n",
       "\n",
       "                              ...                                  26  \\\n",
       "mean_fit_time                 ...                         0.000600719   \n",
       "mean_score_time               ...                         0.000199699   \n",
       "mean_test_score               ...                            0.964286   \n",
       "mean_train_score              ...                            0.986566   \n",
       "param_C                       ...                                  10   \n",
       "param_gamma                   ...                                 0.1   \n",
       "params                        ...             {'C': 10, 'gamma': 0.1}   \n",
       "rank_test_score               ...                                   2   \n",
       "split0_test_score             ...                            0.958333   \n",
       "split0_train_score            ...                            0.988636   \n",
       "split1_test_score             ...                            0.956522   \n",
       "split1_train_score            ...                            0.977528   \n",
       "split2_test_score             ...                                   1   \n",
       "split2_train_score            ...                            0.977778   \n",
       "split3_test_score             ...                            0.954545   \n",
       "split3_train_score            ...                            0.988889   \n",
       "split4_test_score             ...                            0.952381   \n",
       "split4_train_score            ...                                   1   \n",
       "std_fit_time                  ...                         0.000490487   \n",
       "std_score_time                ...                         0.000399399   \n",
       "std_test_score                ...                           0.0177687   \n",
       "std_train_score               ...                          0.00835549   \n",
       "\n",
       "                                       27                      28  \\\n",
       "mean_fit_time                 0.000399923             0.000801182   \n",
       "mean_score_time               0.000400114             0.000599766   \n",
       "mean_test_score                    0.9375                0.919643   \n",
       "mean_train_score                 0.986591                       1   \n",
       "param_C                                10                      10   \n",
       "param_gamma                             1                      10   \n",
       "params              {'C': 10, 'gamma': 1}  {'C': 10, 'gamma': 10}   \n",
       "rank_test_score                        10                      13   \n",
       "split0_test_score                0.916667                   0.875   \n",
       "split0_train_score               0.988636                       1   \n",
       "split1_test_score                0.956522                0.956522   \n",
       "split1_train_score               0.977528                       1   \n",
       "split2_test_score                       1                       1   \n",
       "split2_train_score               0.977778                       1   \n",
       "split3_test_score                0.863636                0.818182   \n",
       "split3_train_score                      1                       1   \n",
       "split4_test_score                0.952381                0.952381   \n",
       "split4_train_score               0.989011                       1   \n",
       "std_fit_time                  0.000489804             0.000400592   \n",
       "std_score_time                0.000490038             0.000489708   \n",
       "std_test_score                  0.0452528               0.0647906   \n",
       "std_train_score                0.00836242                       0   \n",
       "\n",
       "                                         29                          30  \\\n",
       "mean_fit_time                    0.00100112                  0.00060029   \n",
       "mean_score_time                 0.000400019                 0.000200415   \n",
       "mean_test_score                      0.5625                    0.964286   \n",
       "mean_train_score                          1                    0.977676   \n",
       "param_C                                  10                         100   \n",
       "param_gamma                             100                       0.001   \n",
       "params              {'C': 10, 'gamma': 100}  {'C': 100, 'gamma': 0.001}   \n",
       "rank_test_score                          19                           2   \n",
       "split0_test_score                  0.541667                           1   \n",
       "split0_train_score                        1                    0.977273   \n",
       "split1_test_score                  0.478261                    0.956522   \n",
       "split1_train_score                        1                    0.977528   \n",
       "split2_test_score                  0.590909                           1   \n",
       "split2_train_score                        1                    0.966667   \n",
       "split3_test_score                  0.590909                    0.909091   \n",
       "split3_train_score                        1                    0.988889   \n",
       "split4_test_score                  0.619048                    0.952381   \n",
       "split4_train_score                        1                    0.978022   \n",
       "std_fit_time                    9.88791e-07                 0.000490135   \n",
       "std_score_time                  0.000489921                 0.000400829   \n",
       "std_test_score                    0.0496678                   0.0340769   \n",
       "std_train_score                           0                  0.00703191   \n",
       "\n",
       "                                           31                        32  \\\n",
       "mean_fit_time                     0.000200129               0.000800562   \n",
       "mean_score_time                   0.000400305                         0   \n",
       "mean_test_score                      0.973214                  0.955357   \n",
       "mean_train_score                     0.984368                  0.988788   \n",
       "param_C                                   100                       100   \n",
       "param_gamma                              0.01                       0.1   \n",
       "params              {'C': 100, 'gamma': 0.01}  {'C': 100, 'gamma': 0.1}   \n",
       "rank_test_score                             1                         6   \n",
       "split0_test_score                           1                  0.958333   \n",
       "split0_train_score                   0.988636                  0.988636   \n",
       "split1_test_score                    0.956522                         1   \n",
       "split1_train_score                   0.977528                  0.977528   \n",
       "split2_test_score                           1                         1   \n",
       "split2_train_score                   0.977778                  0.977778   \n",
       "split3_test_score                    0.954545                  0.863636   \n",
       "split3_train_score                   0.988889                         1   \n",
       "split4_test_score                    0.952381                  0.952381   \n",
       "split4_train_score                   0.989011                         1   \n",
       "std_fit_time                      0.000400257               0.000749017   \n",
       "std_score_time                    0.000490271                         0   \n",
       "std_test_score                      0.0223995                 0.0495662   \n",
       "std_train_score                    0.00548507                0.00999451   \n",
       "\n",
       "                                        33                       34  \\\n",
       "mean_fit_time                  0.000600481               0.00100145   \n",
       "mean_score_time                 0.00020051              0.000399494   \n",
       "mean_test_score                   0.946429                 0.919643   \n",
       "mean_train_score                         1                        1   \n",
       "param_C                                100                      100   \n",
       "param_gamma                              1                       10   \n",
       "params              {'C': 100, 'gamma': 1}  {'C': 100, 'gamma': 10}   \n",
       "rank_test_score                          8                       13   \n",
       "split0_test_score                 0.916667                    0.875   \n",
       "split0_train_score                       1                        1   \n",
       "split1_test_score                        1                 0.956522   \n",
       "split1_train_score                       1                        1   \n",
       "split2_test_score                        1                        1   \n",
       "split2_train_score                       1                        1   \n",
       "split3_test_score                 0.863636                 0.818182   \n",
       "split3_train_score                       1                        1   \n",
       "split4_test_score                 0.952381                 0.952381   \n",
       "split4_train_score                       1                        1   \n",
       "std_fit_time                   0.000490291              1.62824e-06   \n",
       "std_score_time                  0.00040102               0.00048928   \n",
       "std_test_score                   0.0519227                0.0647906   \n",
       "std_train_score                          0                        0   \n",
       "\n",
       "                                          35  \n",
       "mean_fit_time                     0.00120096  \n",
       "mean_score_time                  0.000200129  \n",
       "mean_test_score                       0.5625  \n",
       "mean_train_score                           1  \n",
       "param_C                                  100  \n",
       "param_gamma                              100  \n",
       "params              {'C': 100, 'gamma': 100}  \n",
       "rank_test_score                           19  \n",
       "split0_test_score                   0.541667  \n",
       "split0_train_score                         1  \n",
       "split1_test_score                   0.478261  \n",
       "split1_train_score                         1  \n",
       "split2_test_score                   0.590909  \n",
       "split2_train_score                         1  \n",
       "split3_test_score                   0.590909  \n",
       "split3_train_score                         1  \n",
       "split4_test_score                   0.619048  \n",
       "split4_train_score                         1  \n",
       "std_fit_time                     0.000401115  \n",
       "std_score_time                   0.000400257  \n",
       "std_test_score                     0.0496678  \n",
       "std_train_score                            0  \n",
       "\n",
       "[22 rows x 36 columns]"
      ]
     },
     "execution_count": 36,
     "metadata": {},
     "output_type": "execute_result"
    }
   ],
   "source": [
    "resuls = pd.DataFrame(grid_search.cv_results_)\n",
    "results.T"
   ]
  },
  {
   "cell_type": "code",
   "execution_count": 39,
   "metadata": {},
   "outputs": [
    {
     "name": "stdout",
     "output_type": "stream",
     "text": [
      "[ 0.96666667  1.          0.9         0.96666667  1.        ]\n",
      "Mean cross-validation score: 0.966666666667\n"
     ]
    }
   ],
   "source": [
    "#使用不同的交叉验证策略进行网格搜索\n",
    "scores = cross_val_score(GridSearchCV(SVC(),param_grid,cv=5),iris.data,iris.target,cv=5)\n",
    "print(scores)\n",
    "print(\"Mean cross-validation score:\",scores.mean())"
   ]
  },
  {
   "cell_type": "markdown",
   "metadata": {},
   "source": [
    "__评估指标与评分__"
   ]
  },
  {
   "cell_type": "code",
   "execution_count": null,
   "metadata": {
    "collapsed": true
   },
   "outputs": [],
   "source": [
    "#二分类指标\n",
    " "
   ]
  },
  {
   "cell_type": "code",
   "execution_count": null,
   "metadata": {
    "collapsed": true
   },
   "outputs": [],
   "source": []
  },
  {
   "cell_type": "code",
   "execution_count": null,
   "metadata": {
    "collapsed": true
   },
   "outputs": [],
   "source": []
  },
  {
   "cell_type": "code",
   "execution_count": null,
   "metadata": {
    "collapsed": true
   },
   "outputs": [],
   "source": []
  },
  {
   "cell_type": "code",
   "execution_count": null,
   "metadata": {
    "collapsed": true
   },
   "outputs": [],
   "source": []
  },
  {
   "cell_type": "code",
   "execution_count": null,
   "metadata": {
    "collapsed": true
   },
   "outputs": [],
   "source": []
  },
  {
   "cell_type": "code",
   "execution_count": null,
   "metadata": {
    "collapsed": true
   },
   "outputs": [],
   "source": []
  },
  {
   "cell_type": "code",
   "execution_count": null,
   "metadata": {
    "collapsed": true
   },
   "outputs": [],
   "source": []
  },
  {
   "cell_type": "code",
   "execution_count": null,
   "metadata": {
    "collapsed": true
   },
   "outputs": [],
   "source": []
  },
  {
   "cell_type": "code",
   "execution_count": null,
   "metadata": {
    "collapsed": true
   },
   "outputs": [],
   "source": []
  },
  {
   "cell_type": "code",
   "execution_count": null,
   "metadata": {
    "collapsed": true
   },
   "outputs": [],
   "source": []
  },
  {
   "cell_type": "code",
   "execution_count": null,
   "metadata": {
    "collapsed": true
   },
   "outputs": [],
   "source": []
  },
  {
   "cell_type": "code",
   "execution_count": null,
   "metadata": {
    "collapsed": true
   },
   "outputs": [],
   "source": []
  },
  {
   "cell_type": "code",
   "execution_count": null,
   "metadata": {
    "collapsed": true
   },
   "outputs": [],
   "source": []
  },
  {
   "cell_type": "code",
   "execution_count": null,
   "metadata": {
    "collapsed": true
   },
   "outputs": [],
   "source": []
  },
  {
   "cell_type": "code",
   "execution_count": null,
   "metadata": {
    "collapsed": true
   },
   "outputs": [],
   "source": []
  },
  {
   "cell_type": "code",
   "execution_count": null,
   "metadata": {
    "collapsed": true
   },
   "outputs": [],
   "source": []
  },
  {
   "cell_type": "code",
   "execution_count": null,
   "metadata": {
    "collapsed": true
   },
   "outputs": [],
   "source": []
  },
  {
   "cell_type": "code",
   "execution_count": null,
   "metadata": {
    "collapsed": true
   },
   "outputs": [],
   "source": []
  },
  {
   "cell_type": "code",
   "execution_count": null,
   "metadata": {
    "collapsed": true
   },
   "outputs": [],
   "source": []
  },
  {
   "cell_type": "code",
   "execution_count": null,
   "metadata": {
    "collapsed": true
   },
   "outputs": [],
   "source": []
  },
  {
   "cell_type": "code",
   "execution_count": null,
   "metadata": {
    "collapsed": true
   },
   "outputs": [],
   "source": []
  },
  {
   "cell_type": "code",
   "execution_count": null,
   "metadata": {
    "collapsed": true
   },
   "outputs": [],
   "source": []
  },
  {
   "cell_type": "code",
   "execution_count": null,
   "metadata": {
    "collapsed": true
   },
   "outputs": [],
   "source": []
  },
  {
   "cell_type": "code",
   "execution_count": null,
   "metadata": {
    "collapsed": true
   },
   "outputs": [],
   "source": []
  },
  {
   "cell_type": "code",
   "execution_count": null,
   "metadata": {
    "collapsed": true
   },
   "outputs": [],
   "source": []
  },
  {
   "cell_type": "code",
   "execution_count": null,
   "metadata": {
    "collapsed": true
   },
   "outputs": [],
   "source": []
  },
  {
   "cell_type": "code",
   "execution_count": null,
   "metadata": {
    "collapsed": true
   },
   "outputs": [],
   "source": []
  },
  {
   "cell_type": "code",
   "execution_count": null,
   "metadata": {
    "collapsed": true
   },
   "outputs": [],
   "source": []
  },
  {
   "cell_type": "code",
   "execution_count": null,
   "metadata": {
    "collapsed": true
   },
   "outputs": [],
   "source": []
  },
  {
   "cell_type": "code",
   "execution_count": null,
   "metadata": {
    "collapsed": true
   },
   "outputs": [],
   "source": []
  },
  {
   "cell_type": "code",
   "execution_count": null,
   "metadata": {
    "collapsed": true
   },
   "outputs": [],
   "source": []
  },
  {
   "cell_type": "code",
   "execution_count": null,
   "metadata": {
    "collapsed": true
   },
   "outputs": [],
   "source": []
  },
  {
   "cell_type": "code",
   "execution_count": null,
   "metadata": {
    "collapsed": true
   },
   "outputs": [],
   "source": []
  },
  {
   "cell_type": "code",
   "execution_count": null,
   "metadata": {
    "collapsed": true
   },
   "outputs": [],
   "source": []
  },
  {
   "cell_type": "code",
   "execution_count": null,
   "metadata": {
    "collapsed": true
   },
   "outputs": [],
   "source": []
  },
  {
   "cell_type": "code",
   "execution_count": null,
   "metadata": {
    "collapsed": true
   },
   "outputs": [],
   "source": []
  },
  {
   "cell_type": "code",
   "execution_count": null,
   "metadata": {
    "collapsed": true
   },
   "outputs": [],
   "source": []
  },
  {
   "cell_type": "code",
   "execution_count": null,
   "metadata": {
    "collapsed": true
   },
   "outputs": [],
   "source": []
  },
  {
   "cell_type": "code",
   "execution_count": null,
   "metadata": {
    "collapsed": true
   },
   "outputs": [],
   "source": []
  },
  {
   "cell_type": "code",
   "execution_count": null,
   "metadata": {
    "collapsed": true
   },
   "outputs": [],
   "source": []
  },
  {
   "cell_type": "code",
   "execution_count": null,
   "metadata": {
    "collapsed": true
   },
   "outputs": [],
   "source": []
  },
  {
   "cell_type": "code",
   "execution_count": null,
   "metadata": {
    "collapsed": true
   },
   "outputs": [],
   "source": []
  },
  {
   "cell_type": "code",
   "execution_count": null,
   "metadata": {
    "collapsed": true
   },
   "outputs": [],
   "source": []
  },
  {
   "cell_type": "code",
   "execution_count": null,
   "metadata": {
    "collapsed": true
   },
   "outputs": [],
   "source": []
  }
 ],
 "metadata": {
  "kernelspec": {
   "display_name": "Python 3",
   "language": "python",
   "name": "python3"
  },
  "language_info": {
   "codemirror_mode": {
    "name": "ipython",
    "version": 3
   },
   "file_extension": ".py",
   "mimetype": "text/x-python",
   "name": "python",
   "nbconvert_exporter": "python",
   "pygments_lexer": "ipython3",
   "version": "3.6.3"
  }
 },
 "nbformat": 4,
 "nbformat_minor": 2
}
